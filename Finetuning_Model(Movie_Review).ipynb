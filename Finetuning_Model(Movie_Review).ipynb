{
  "nbformat": 4,
  "nbformat_minor": 0,
  "metadata": {
    "colab": {
      "provenance": [],
      "gpuType": "T4"
    },
    "kernelspec": {
      "name": "python3",
      "display_name": "Python 3"
    },
    "language_info": {
      "name": "python"
    },
    "accelerator": "GPU"
  },
  "cells": [
    {
      "cell_type": "code",
      "execution_count": null,
      "metadata": {
        "colab": {
          "base_uri": "https://localhost:8080/"
        },
        "id": "G46f9SC_Ovrk",
        "outputId": "05462e11-cfaf-49ed-a4d0-19aa52e80692"
      },
      "outputs": [
        {
          "output_type": "stream",
          "name": "stdout",
          "text": [
            "Requirement already satisfied: transformers in /usr/local/lib/python3.10/dist-packages (4.41.1)\n",
            "Requirement already satisfied: filelock in /usr/local/lib/python3.10/dist-packages (from transformers) (3.14.0)\n",
            "Requirement already satisfied: huggingface-hub<1.0,>=0.23.0 in /usr/local/lib/python3.10/dist-packages (from transformers) (0.23.2)\n",
            "Requirement already satisfied: numpy>=1.17 in /usr/local/lib/python3.10/dist-packages (from transformers) (1.25.2)\n",
            "Requirement already satisfied: packaging>=20.0 in /usr/local/lib/python3.10/dist-packages (from transformers) (24.0)\n",
            "Requirement already satisfied: pyyaml>=5.1 in /usr/local/lib/python3.10/dist-packages (from transformers) (6.0.1)\n",
            "Requirement already satisfied: regex!=2019.12.17 in /usr/local/lib/python3.10/dist-packages (from transformers) (2024.5.15)\n",
            "Requirement already satisfied: requests in /usr/local/lib/python3.10/dist-packages (from transformers) (2.31.0)\n",
            "Requirement already satisfied: tokenizers<0.20,>=0.19 in /usr/local/lib/python3.10/dist-packages (from transformers) (0.19.1)\n",
            "Requirement already satisfied: safetensors>=0.4.1 in /usr/local/lib/python3.10/dist-packages (from transformers) (0.4.3)\n",
            "Requirement already satisfied: tqdm>=4.27 in /usr/local/lib/python3.10/dist-packages (from transformers) (4.66.4)\n",
            "Requirement already satisfied: fsspec>=2023.5.0 in /usr/local/lib/python3.10/dist-packages (from huggingface-hub<1.0,>=0.23.0->transformers) (2023.6.0)\n",
            "Requirement already satisfied: typing-extensions>=3.7.4.3 in /usr/local/lib/python3.10/dist-packages (from huggingface-hub<1.0,>=0.23.0->transformers) (4.12.0)\n",
            "Requirement already satisfied: charset-normalizer<4,>=2 in /usr/local/lib/python3.10/dist-packages (from requests->transformers) (3.3.2)\n",
            "Requirement already satisfied: idna<4,>=2.5 in /usr/local/lib/python3.10/dist-packages (from requests->transformers) (3.7)\n",
            "Requirement already satisfied: urllib3<3,>=1.21.1 in /usr/local/lib/python3.10/dist-packages (from requests->transformers) (2.0.7)\n",
            "Requirement already satisfied: certifi>=2017.4.17 in /usr/local/lib/python3.10/dist-packages (from requests->transformers) (2024.2.2)\n"
          ]
        }
      ],
      "source": [
        "!pip install transformers"
      ]
    },
    {
      "cell_type": "code",
      "source": [
        "from transformers import PreTrainedTokenizerFast\n",
        "tokenizer = PreTrainedTokenizerFast.from_pretrained(\"skt/kogpt2-base-v2\",\n",
        "                                                    bos_token='</s>', eos_token='</s>', unk_token='<unk>',\n",
        "                                                    pad_token='<pad>', mask_token='<mask>')"
      ],
      "metadata": {
        "colab": {
          "base_uri": "https://localhost:8080/"
        },
        "id": "rEBP8QmIO0Wk",
        "outputId": "3560b9f4-4041-4c41-c7a4-27e3dcd9db6f"
      },
      "execution_count": null,
      "outputs": [
        {
          "output_type": "stream",
          "name": "stderr",
          "text": [
            "The tokenizer class you load from this checkpoint is not the same type as the class this function is called from. It may result in unexpected tokenization. \n",
            "The tokenizer class you load from this checkpoint is 'GPT2Tokenizer'. \n",
            "The class this function is called from is 'PreTrainedTokenizerFast'.\n"
          ]
        }
      ]
    },
    {
      "cell_type": "code",
      "source": [
        "import torch\n",
        "from transformers import PreTrainedTokenizerFast\n",
        "from transformers import GPT2LMHeadModel\n",
        "\n",
        "model = GPT2LMHeadModel.from_pretrained('skt/kogpt2-base-v2')\n",
        "tokenizer = PreTrainedTokenizerFast.from_pretrained(\"skt/kogpt2-base-v2\",\n",
        "                                                    bos_token='</s>', eos_token='</s>', unk_token='<unk>',\n",
        "                                                    pad_token='<pad>', mask_token='<mask>')\n"
      ],
      "metadata": {
        "colab": {
          "base_uri": "https://localhost:8080/"
        },
        "id": "JXMozOogULhq",
        "outputId": "93eef991-6269-4986-d6e5-c2cd1f422bde"
      },
      "execution_count": null,
      "outputs": [
        {
          "output_type": "stream",
          "name": "stderr",
          "text": [
            "The tokenizer class you load from this checkpoint is not the same type as the class this function is called from. It may result in unexpected tokenization. \n",
            "The tokenizer class you load from this checkpoint is 'GPT2Tokenizer'. \n",
            "The class this function is called from is 'PreTrainedTokenizerFast'.\n"
          ]
        }
      ]
    },
    {
      "cell_type": "code",
      "source": [
        "def read_data(txt_path):\n",
        "  with open(txt_path, 'r') as f:\n",
        "    txt_data = f.readlines()\n",
        "  return txt_data\n",
        "\n",
        "movie_ratings_data_path = \"/content/Movie_Ratings(Naver).txt\"   #이거 수정! 경로수정하시고\n",
        "\n",
        "movie_ratings_data = read_data(movie_ratings_data_path) #data 바로 쓰면 되어요"
      ],
      "metadata": {
        "id": "fijWfjLMO3sb"
      },
      "execution_count": null,
      "outputs": []
    },
    {
      "cell_type": "code",
      "source": [
        "# Preprocessing Data\n",
        "# 각 줄에서 첫 번째 탭 문자 이전의 내용을 제거함 -> id 제거\n",
        "# 이거는 Movie data 전처리라서 빼도 될거예요\n",
        "\n",
        "def preprocess_data(txt_lines) :\n",
        "  processed_lines = [] # 전처리된 문장이 저장될 공간\n",
        "\n",
        "  for line in txt_lines:\n",
        "      if '\\t' in line:\n",
        "          processed_lines.append(line.split('\\t', 1)[1])\n",
        "      else:\n",
        "          processed_lines.append(line)\n",
        "\n",
        "  final_data = []\n",
        "  label = [] #긍정/부정 label -> 0:neg 1:pos\n",
        "  for line in processed_lines:\n",
        "      if '\\t' in line:\n",
        "          final_data.append(line.split('\\t', 1)[0])\n",
        "          label.append(line.split('\\t', 1)[1][0])\n",
        "      else:\n",
        "          final_data.append(line)\n",
        "  return final_data\n",
        "\n",
        "movie_ratings_data = preprocess_data(movie_ratings_data)\n",
        "movie_ratings_data = movie_ratings_data[:10000]"
      ],
      "metadata": {
        "id": "7n3hSm9XP2QH"
      },
      "execution_count": null,
      "outputs": []
    },
    {
      "cell_type": "code",
      "source": [
        "import torch\n",
        "\n",
        "class TextSet:\n",
        "  def __init__(self, text_data, tokenizer, batch_len=8):\n",
        "    self.text_in_a_string = \"\".join(text_data).replace('\\n', ' ')\n",
        "    self.tokenizer = tokenizer\n",
        "    self.tokenized_corpus = self.tokenizer(self.text_in_a_string)['input_ids']\n",
        "    self.batch_len = batch_len\n",
        "    self.tokenized_corpus = self.tokenized_corpus[:len(self.tokenized_corpus)//self.batch_len*self.batch_len]\n",
        "    self.corpus_tensor = self._batchify_text()\n",
        "\n",
        "  def _batchify_text(self):\n",
        "    entire_corpus_tensor = torch.LongTensor(self.tokenized_corpus)\n",
        "    return entire_corpus_tensor.reshape(-1, self.batch_len)\n",
        "\n",
        "  def __len__(self):\n",
        "    return len(self.corpus_tensor)\n",
        "\n",
        "  def __getitem__(self, idx):\n",
        "    return self.corpus_tensor[idx]\n",
        "\n"
      ],
      "metadata": {
        "id": "zMd88rapQrFE"
      },
      "execution_count": null,
      "outputs": []
    },
    {
      "cell_type": "code",
      "source": [
        "'''\n",
        "define train_loader\n",
        "'''\n",
        "\n",
        "from torch.utils.data import DataLoader\n",
        "train_set = TextSet(movie_ratings_data, tokenizer, batch_len=32)\n",
        "\n",
        "train_loader = DataLoader(train_set, batch_size=32, shuffle=True)"
      ],
      "metadata": {
        "id": "0HyYTVz0Tkfv"
      },
      "execution_count": null,
      "outputs": []
    },
    {
      "cell_type": "code",
      "source": [
        "import matplotlib.pyplot as plt\n",
        "from tqdm import tqdm\n",
        "\n",
        "'''\n",
        "Use CUDA (NVIDIA GPU) to train your model\n",
        "'''\n",
        "\n",
        "optimizer = torch.optim.Adam(model.parameters(), lr=1e-4)\n",
        "loss_record = []\n",
        "model.cuda()\n",
        "num_iteration = 500 # you can change num updates here\n",
        "\n",
        "'''\n",
        "In your report, briefly explain how this training loop trains a language model\n",
        "'''\n",
        "train_iter = iter(train_loader)\n",
        "\n",
        "for i in tqdm(range(num_iteration)):\n",
        "  try:\n",
        "    batch = next(train_iter)\n",
        "  except StopIteration:\n",
        "    train_iter = iter(train_loader)\n",
        "    batch = next(train_iter)\n",
        "  out = model(batch.cuda()).logits\n",
        "  out = torch.log_softmax(out, dim=-1)\n",
        "  correct_next_word = batch[:, 1:]\n",
        "  out_flatten = out[:, :-1, :].reshape(-1, out.shape[-1])\n",
        "  correct_next_word = correct_next_word.reshape(-1)\n",
        "\n",
        "  log_prob_of_correct_word = out_flatten[torch.arange(len(correct_next_word)), correct_next_word]\n",
        "\n",
        "  loss = -log_prob_of_correct_word.mean()\n",
        "  loss.backward()\n",
        "\n",
        "  optimizer.step()\n",
        "  optimizer.zero_grad()\n",
        "  loss_record.append(loss.item())\n",
        "\n",
        "plt.plot(loss_record)"
      ],
      "metadata": {
        "colab": {
          "base_uri": "https://localhost:8080/",
          "height": 466
        },
        "id": "YVducUAuTymE",
        "outputId": "8023e4f0-d571-4130-8c99-2408f55b68ee"
      },
      "execution_count": null,
      "outputs": [
        {
          "output_type": "stream",
          "name": "stderr",
          "text": [
            "100%|██████████| 500/500 [02:31<00:00,  3.31it/s]\n"
          ]
        },
        {
          "output_type": "execute_result",
          "data": {
            "text/plain": [
              "[<matplotlib.lines.Line2D at 0x7d2ed4fe8d90>]"
            ]
          },
          "metadata": {},
          "execution_count": 66
        },
        {
          "output_type": "display_data",
          "data": {
            "text/plain": [
              "<Figure size 640x480 with 1 Axes>"
            ],
            "image/png": "[encoded data removed]"
          },
          "metadata": {}
        }
      ]
    },
    {
      "cell_type": "code",
      "source": [
        "import torch, gc\n",
        "gc.collect()\n",
        "torch.cuda.empty_cache()"
      ],
      "metadata": {
        "id": "1svqEbU4T-94"
      },
      "execution_count": null,
      "outputs": []
    },
    {
      "cell_type": "markdown",
      "source": [
        "### Generate Test\n"
      ],
      "metadata": {
        "id": "cjufj-Oueshd"
      }
    },
    {
      "cell_type": "code",
      "source": [
        "import torch\n",
        "import random\n",
        "\n",
        "\n",
        "def generate_sentence(prompt, max_length=max_len, temperature=0.9):\n",
        "    # 입력 문장을 토크나이징\n",
        "    #torch.manual_seed(42)\n",
        "    random.seed(42)\n",
        "    input_ids = tokenizer.encode(prompt, return_tensors='pt').cuda()\n",
        "\n",
        "    # 문장 생성\n",
        "    with torch.no_grad():\n",
        "        outputs = model.generate(\n",
        "            input_ids=input_ids.to(torch.device(\"cuda:0\")),\n",
        "            max_length=max_length,\n",
        "            temperature=temperature,\n",
        "            pad_token_id=tokenizer.eos_token_id,\n",
        "            num_return_sequences=1,\n",
        "            do_sample=True,  # 샘플링 활성화\n",
        "            top_k=50,        # top_k 토큰 중에서 선택\n",
        "            top_p=0.95\n",
        "        )\n",
        "\n",
        "    # 생성된 문장 디코딩\n",
        "    generated_text = tokenizer.decode(outputs[0], skip_special_tokens=True)\n",
        "    generated_text = generated_text.replace(\"\\n\", \" \")\n",
        "    generated_text = generated_text.replace('\"', \"\")\n",
        "    generated_text = generated_text.replace(\"'\", \"\")\n",
        "    return generated_text\n"
      ],
      "metadata": {
        "id": "aMjNO5fddLM7"
      },
      "execution_count": null,
      "outputs": []
    },
    {
      "cell_type": "code",
      "source": [
        "generate_sentence(\"바보아님\", 20, temperature=0.9)"
      ],
      "metadata": {
        "colab": {
          "base_uri": "https://localhost:8080/",
          "height": 36
        },
        "id": "B7c08Gmkfeuz",
        "outputId": "536886c0-18e5-4cb1-f422-7b355e3305ca"
      },
      "execution_count": null,
      "outputs": [
        {
          "output_type": "execute_result",
          "data": {
            "text/plain": [
              "'바보아님..마지막 장면에서 마냥 웃는 장면..정말 재밌었다..'"
            ],
            "application/vnd.google.colaboratory.intrinsic+json": {
              "type": "string"
            }
          },
          "metadata": {},
          "execution_count": 77
        }
      ]
    },
    {
      "cell_type": "code",
      "source": [
        "def make_acrostic(org):\n",
        "  max_len = 10\n",
        "  org_clean = org.replace(\" \", \"\")\n",
        "  syllables = list(org_clean)\n",
        "  num_lines = len(syllables)\n",
        "  print(\"====================================\")\n",
        "  print(\"prompt :\", org)\n",
        "  print(\"syllables :\", syllables)\n",
        "  print(\"max length of each sentence:\", max_len)\n",
        "  print(\"number of lines :\", num_lines)\n",
        "\n",
        "  generated_sentence = [\"\"]\n",
        "  lens = [0]\n",
        "\n",
        "  for idx_n_letter in enumerate(syllables):\n",
        "    i = idx_n_letter[0] #index\n",
        "    one_letter = idx_n_letter[1] #실제 값\n",
        "\n",
        "\n",
        "    concat_sentence = \"\"\n",
        "    for one_sentence in generated_sentence:\n",
        "      concat_sentence += one_sentence\n",
        "\n",
        "    prompt = concat_sentence + one_letter\n",
        "    # random.seed(30)\n",
        "    # print(i, \"prompt :\", prompt)\n",
        "    out = generate_sentence(prompt, max_length=max_len*(i+1))\n",
        "    lens.append(len(out))\n",
        "    # print(\" \", \"out :\", out)\n",
        "    # print(\" \", \"to save :\", out[lens[i]:lens[i+1]])\n",
        "    generated_sentence.append(out[lens[i]:lens[i+1]])\n",
        "\n",
        "  print(\"---\")\n",
        "  del generated_sentence[0]\n",
        "  for one_row in generated_sentence:\n",
        "    print(one_row)\n",
        "\n",
        "  # print(lens)\n"
      ],
      "metadata": {
        "id": "71DbmxrddD-V"
      },
      "execution_count": null,
      "outputs": []
    },
    {
      "cell_type": "code",
      "source": [
        "# Input 받아 저장\n",
        "\n",
        "org = input(\"전하고 싶은 비밀 메시지를 입력하세요 : \")\n",
        "# max_len = int(input(\"한 문장의 길이를 입력하세요 : \"))\n",
        "make_acrostic(org)"
      ],
      "metadata": {
        "colab": {
          "base_uri": "https://localhost:8080/"
        },
        "id": "zPY9MBTGcN7K",
        "outputId": "159394b1-5d4c-4f3e-e30c-2c14aaa639c4"
      },
      "execution_count": null,
      "outputs": [
        {
          "output_type": "stream",
          "name": "stdout",
          "text": [
            "전하고 싶은 비밀 메시지를 입력하세요 : 바보아님\n",
            "====================================\n",
            "prompt : 바보아님\n",
            "syllables : ['바', '보', '아', '님']\n",
            "max length of each sentence: 10\n",
            "number of lines : 4\n",
            "first : 0, second : 바\n",
            "first : 1, second : 보\n",
            "first : 2, second : 아\n",
            "first : 3, second : 님\n",
            "---\n",
            "바랍니다! 정말 재미있게 본 영화\n",
            "보단 재밌는데...마지막에 살짝\n",
            "아련한것같다...정말 \n",
            "님..정말 웃김,!!!!\n"
          ]
        }
      ]
    },
    {
      "cell_type": "code",
      "source": [
        "# Input 받아 저장\n",
        "\n",
        "org = input(\"전하고 싶은 비밀 메시지를 입력하세요 : \")\n",
        "# max_len = int(input(\"한 문장의 길이를 입력하세요 : \"))\n",
        "make_acrostic(org)"
      ],
      "metadata": {
        "colab": {
          "base_uri": "https://localhost:8080/"
        },
        "id": "KZvoM6uddJ5q",
        "outputId": "60b40633-7f74-479f-fa3f-c63a19f8ffcb"
      },
      "execution_count": null,
      "outputs": [
        {
          "output_type": "stream",
          "name": "stdout",
          "text": [
            "전하고 싶은 비밀 메시지를 입력하세요 : 개극혐\n",
            "====================================\n",
            "prompt : 개극혐\n",
            "syllables : ['개', '극', '혐']\n",
            "max length of each sentence: 10\n",
            "number of lines : 3\n",
            "first : 0, second : 개\n",
            "first : 1, second : 극\n",
            "first : 2, second : 혐\n",
            "---\n",
            "개재미있어요~~재밌음\n",
            "극중 제일 멋있었는데 재밌게 본\n",
            "혐지스럽지않다!!!!!\n"
          ]
        }
      ]
    },
    {
      "cell_type": "code",
      "source": [
        "# Input 받아 저장\n",
        "\n",
        "org = input(\"전하고 싶은 비밀 메시지를 입력하세요 : \")\n",
        "# max_len = int(input(\"한 문장의 길이를 입력하세요 : \"))\n",
        "make_acrostic(org)"
      ],
      "metadata": {
        "colab": {
          "base_uri": "https://localhost:8080/"
        },
        "id": "bylUwsn1gkC5",
        "outputId": "ff0979af-3ab6-415e-c5ef-97daa3ee5e31"
      },
      "execution_count": null,
      "outputs": [
        {
          "output_type": "stream",
          "name": "stdout",
          "text": [
            "전하고 싶은 비밀 메시지를 입력하세요 : 개극혐\n",
            "====================================\n",
            "prompt : 개극혐\n",
            "syllables : ['개', '극', '혐']\n",
            "max length of each sentence: 10\n",
            "number of lines : 3\n",
            "---\n",
            "개쩜 재밌었네요. 왜 평점을\n",
            "극삭임???지극히빙\n",
            "혐지스럽게 잘생겼다 ᄏᄏ\n"
          ]
        }
      ]
    },
    {
      "cell_type": "code",
      "source": [
        "# Input 받아 저장\n",
        "\n",
        "org = input(\"전하고 싶은 비밀 메시지를 입력하세요 : \")\n",
        "# max_len = int(input(\"한 문장의 길이를 입력하세요 : \"))\n",
        "make_acrostic(org)"
      ],
      "metadata": {
        "colab": {
          "base_uri": "https://localhost:8080/"
        },
        "id": "l_nMxiTfgsp3",
        "outputId": "9f23c8d6-eec1-403c-ebe7-e22f41a252df"
      },
      "execution_count": null,
      "outputs": [
        {
          "output_type": "stream",
          "name": "stdout",
          "text": [
            "전하고 싶은 비밀 메시지를 입력하세요 : 노잼\n",
            "====================================\n",
            "prompt : 노잼\n",
            "syllables : ['노', '잼']\n",
            "max length of each sentence: 10\n",
            "number of lines : 2\n",
            "---\n",
            "노마!!!기대안하고봤\n",
            "잼이네요ᄒᄒᄒ ᅲ너\n"
          ]
        }
      ]
    },
    {
      "cell_type": "code",
      "source": [],
      "metadata": {
        "id": "GiHglAAUhGXN"
      },
      "execution_count": null,
      "outputs": []
    }
  ]
}